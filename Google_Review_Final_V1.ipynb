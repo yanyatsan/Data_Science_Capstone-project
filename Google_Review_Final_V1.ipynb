{
 "cells": [
  {
   "cell_type": "markdown",
   "id": "b95f6d98-c0ef-4012-979e-2c1d132af050",
   "metadata": {},
   "source": [
    "<font size=\"5\">Importing python packages </font>"
   ]
  },
  {
   "cell_type": "code",
   "execution_count": 1,
   "id": "1ce24dc9-b3e5-4a9d-9a23-7ebf7f53b289",
   "metadata": {},
   "outputs": [],
   "source": [
    "# General packages\n",
    "import numpy as np\n",
    "import pandas as pd\n",
    "import seaborn as sns\n",
    "import matplotlib.pyplot as plt\n",
    "import os\n",
    "\n",
    "# NLP packages\n",
    "import nltk\n",
    "from nltk import word_tokenize\n",
    "from sklearn.feature_extraction.text import CountVectorizer\n",
    "from sklearn.feature_extraction.text import TfidfVectorizer\n",
    "from collections import Counter\n",
    "from wordcloud import WordCloud\n",
    "import nltk\n",
    "from nltk.corpus import stopwords\n",
    "from nltk.stem import WordNetLemmatizer\n",
    "import re\n",
    "from nltk.stem import WordNetLemmatizer\n",
    "\n",
    "\n",
    "# Modeling packages\n",
    "from sklearn.model_selection import train_test_split\n",
    "from sklearn.linear_model import LogisticRegression\n",
    "from sklearn.ensemble import RandomForestClassifier\n",
    "from sklearn.metrics import accuracy_score\n",
    "from sklearn.metrics import f1_score\n",
    "from sklearn.metrics import confusion_matrix, classification_report\n",
    "from sklearn import ensemble\n",
    "from sklearn import metrics\n",
    "from sklearn.metrics import accuracy_score\n",
    "\n",
    "from pylab import rcParams\n",
    "import warnings\n",
    "warnings.filterwarnings(\"ignore\")\n",
    "rcParams['figure.figsize'] = 14, 6\n",
    "plt.style.use('ggplot')"
   ]
  },
  {
   "cell_type": "markdown",
   "id": "44fb9a6d-da2a-4ac2-90eb-696ea5cb070a",
   "metadata": {},
   "source": [
    "<font size=\"5\">Reading and performing basic analysis of the data</font>"
   ]
  },
  {
   "cell_type": "code",
   "execution_count": 2,
   "id": "1c4b6f7e-ff76-4054-81d3-e1ade9e67e47",
   "metadata": {},
   "outputs": [
    {
     "data": {
      "text/html": [
       "<div>\n",
       "<style scoped>\n",
       "    .dataframe tbody tr th:only-of-type {\n",
       "        vertical-align: middle;\n",
       "    }\n",
       "\n",
       "    .dataframe tbody tr th {\n",
       "        vertical-align: top;\n",
       "    }\n",
       "\n",
       "    .dataframe thead th {\n",
       "        text-align: right;\n",
       "    }\n",
       "</style>\n",
       "<table border=\"1\" class=\"dataframe\">\n",
       "  <thead>\n",
       "    <tr style=\"text-align: right;\">\n",
       "      <th></th>\n",
       "      <th>Date</th>\n",
       "      <th>Stars</th>\n",
       "      <th>Sentiment_rating</th>\n",
       "      <th>Details</th>\n",
       "      <th>Text</th>\n",
       "      <th>Remark</th>\n",
       "    </tr>\n",
       "  </thead>\n",
       "  <tbody>\n",
       "    <tr>\n",
       "      <th>0</th>\n",
       "      <td>2-14W</td>\n",
       "      <td>4-stars or above</td>\n",
       "      <td>Advertising</td>\n",
       "      <td>廣告太多</td>\n",
       "      <td>If you still give us a lot of ads, let them be...</td>\n",
       "      <td>NaN</td>\n",
       "    </tr>\n",
       "    <tr>\n",
       "      <th>1</th>\n",
       "      <td>2-14W</td>\n",
       "      <td>4-stars or above</td>\n",
       "      <td>Positive</td>\n",
       "      <td>Positive</td>\n",
       "      <td>Great casino so far, nice machines</td>\n",
       "      <td>NaN</td>\n",
       "    </tr>\n",
       "    <tr>\n",
       "      <th>2</th>\n",
       "      <td>2-14W</td>\n",
       "      <td>4-stars or above</td>\n",
       "      <td>Positive</td>\n",
       "      <td>個人意見</td>\n",
       "      <td>you are ksk</td>\n",
       "      <td>NaN</td>\n",
       "    </tr>\n",
       "    <tr>\n",
       "      <th>3</th>\n",
       "      <td>2-14W</td>\n",
       "      <td>4-stars or above</td>\n",
       "      <td>Positive</td>\n",
       "      <td>Positive</td>\n",
       "      <td>Fun games</td>\n",
       "      <td>NaN</td>\n",
       "    </tr>\n",
       "    <tr>\n",
       "      <th>4</th>\n",
       "      <td>2-14W</td>\n",
       "      <td>4-stars or above</td>\n",
       "      <td>Positive</td>\n",
       "      <td>Positive</td>\n",
       "      <td>Very good</td>\n",
       "      <td>NaN</td>\n",
       "    </tr>\n",
       "  </tbody>\n",
       "</table>\n",
       "</div>"
      ],
      "text/plain": [
       "    Date             Stars Sentiment_rating   Details  \\\n",
       "0  2-14W  4-stars or above      Advertising      廣告太多   \n",
       "1  2-14W  4-stars or above         Positive  Positive   \n",
       "2  2-14W  4-stars or above         Positive      個人意見   \n",
       "3  2-14W  4-stars or above         Positive  Positive   \n",
       "4  2-14W  4-stars or above         Positive  Positive   \n",
       "\n",
       "                                                Text Remark  \n",
       "0  If you still give us a lot of ads, let them be...    NaN  \n",
       "1                 Great casino so far, nice machines    NaN  \n",
       "2                                        you are ksk    NaN  \n",
       "3                                          Fun games    NaN  \n",
       "4                                          Very good    NaN  "
      ]
     },
     "execution_count": 2,
     "metadata": {},
     "output_type": "execute_result"
    }
   ],
   "source": [
    "data = pd.read_csv('slot_reviews_V2.csv')\n",
    "data.head(5)"
   ]
  },
  {
   "cell_type": "code",
   "execution_count": 3,
   "id": "1f1e2596-fd12-4cdd-aa66-a8a37eb3d20d",
   "metadata": {},
   "outputs": [
    {
     "data": {
      "text/html": [
       "<div>\n",
       "<style scoped>\n",
       "    .dataframe tbody tr th:only-of-type {\n",
       "        vertical-align: middle;\n",
       "    }\n",
       "\n",
       "    .dataframe tbody tr th {\n",
       "        vertical-align: top;\n",
       "    }\n",
       "\n",
       "    .dataframe thead th {\n",
       "        text-align: right;\n",
       "    }\n",
       "</style>\n",
       "<table border=\"1\" class=\"dataframe\">\n",
       "  <thead>\n",
       "    <tr style=\"text-align: right;\">\n",
       "      <th></th>\n",
       "      <th>Sentiment_rating</th>\n",
       "      <th>Text</th>\n",
       "    </tr>\n",
       "  </thead>\n",
       "  <tbody>\n",
       "    <tr>\n",
       "      <th>0</th>\n",
       "      <td>Advertising</td>\n",
       "      <td>If you still give us a lot of ads, let them be...</td>\n",
       "    </tr>\n",
       "    <tr>\n",
       "      <th>1</th>\n",
       "      <td>Positive</td>\n",
       "      <td>Great casino so far, nice machines</td>\n",
       "    </tr>\n",
       "    <tr>\n",
       "      <th>2</th>\n",
       "      <td>Positive</td>\n",
       "      <td>you are ksk</td>\n",
       "    </tr>\n",
       "    <tr>\n",
       "      <th>3</th>\n",
       "      <td>Positive</td>\n",
       "      <td>Fun games</td>\n",
       "    </tr>\n",
       "    <tr>\n",
       "      <th>4</th>\n",
       "      <td>Positive</td>\n",
       "      <td>Very good</td>\n",
       "    </tr>\n",
       "  </tbody>\n",
       "</table>\n",
       "</div>"
      ],
      "text/plain": [
       "  Sentiment_rating                                               Text\n",
       "0      Advertising  If you still give us a lot of ads, let them be...\n",
       "1         Positive                 Great casino so far, nice machines\n",
       "2         Positive                                        you are ksk\n",
       "3         Positive                                          Fun games\n",
       "4         Positive                                          Very good"
      ]
     },
     "execution_count": 3,
     "metadata": {},
     "output_type": "execute_result"
    }
   ],
   "source": [
    "df_reviews=pd.concat([data.Sentiment_rating,data.Text],axis=1)\n",
    "df_reviews.dropna(axis=0,inplace=True)\n",
    "df_reviews.head(5)"
   ]
  },
  {
   "cell_type": "code",
   "execution_count": 4,
   "id": "37bc369d-99ee-46ac-bc19-a53fa6571b10",
   "metadata": {},
   "outputs": [
    {
     "data": {
      "text/plain": [
       "Positive             576\n",
       "Numerical            182\n",
       "Technician Issues    120\n",
       "Advertising           56\n",
       "General Questions     56\n",
       "Graphic               25\n",
       "Name: Sentiment_rating, dtype: int64"
      ]
     },
     "execution_count": 4,
     "metadata": {},
     "output_type": "execute_result"
    }
   ],
   "source": [
    "df_reviews.Sentiment_rating.value_counts()"
   ]
  },
  {
   "cell_type": "markdown",
   "id": "9b18fab6-7928-448d-a48e-20da0d851d72",
   "metadata": {},
   "source": [
    "<font size=\"5\">Convert categorical labels to numerical form</font>"
   ]
  },
  {
   "cell_type": "code",
   "execution_count": 5,
   "id": "3d752136-f7a4-4757-8cb1-67319237b762",
   "metadata": {},
   "outputs": [],
   "source": [
    "def numerical_convertion(df_reviews):\n",
    "    df_reviews.replace(to_replace =\"Positive\", value =0, inplace=True)\n",
    "    df_reviews.replace(to_replace =\"Numerical\", value =1, inplace=True)\n",
    "    df_reviews.replace(to_replace =\"Technician Issues\", value =1, inplace=True)\n",
    "    df_reviews.replace(to_replace =\"Advertising\", value =1, inplace=True)\n",
    "    df_reviews.replace(to_replace =\"Graphic\", value =0, inplace=True)\n",
    "    df_reviews.replace(to_replace =\"General Questions\", value =2, inplace=True)"
   ]
  },
  {
   "cell_type": "code",
   "execution_count": 6,
   "id": "e0fc661a-7cc3-4541-a6fd-350b3b3cb516",
   "metadata": {},
   "outputs": [
    {
     "data": {
      "text/plain": [
       "0    601\n",
       "1    358\n",
       "2     56\n",
       "Name: Sentiment_rating, dtype: int64"
      ]
     },
     "execution_count": 6,
     "metadata": {},
     "output_type": "execute_result"
    }
   ],
   "source": [
    "numerical_convertion(df_reviews[\"Sentiment_rating\"])\n",
    "df_reviews.Sentiment_rating.value_counts()"
   ]
  },
  {
   "cell_type": "code",
   "execution_count": 7,
   "id": "1a89d05e-ab83-4f4b-a828-9943dfdc78cb",
   "metadata": {},
   "outputs": [
    {
     "data": {
      "text/plain": [
       "<AxesSubplot:xlabel='Sentiment_rating', ylabel='count'>"
      ]
     },
     "execution_count": 7,
     "metadata": {},
     "output_type": "execute_result"
    },
    {
     "data": {
      "image/png": "[encoded data removed]",
      "text/plain": [
       "<Figure size 1008x432 with 1 Axes>"
      ]
     },
     "metadata": {},
     "output_type": "display_data"
    }
   ],
   "source": [
    "sns.countplot(df_reviews.Sentiment_rating)"
   ]
  },
  {
   "cell_type": "markdown",
   "id": "6fc114ea-20a2-4ae4-99e9-638cd15f584d",
   "metadata": {},
   "source": [
    "<font size=\"5\">Data Pre-processing</font>"
   ]
  },
  {
   "cell_type": "markdown",
   "id": "44ff2ccd-3ac5-42bc-8b08-e93e15ac96ec",
   "metadata": {},
   "source": [
    "<font size=\"5\">Lemmatization</font>"
   ]
  },
  {
   "cell_type": "code",
   "execution_count": 8,
   "id": "f1883c6f-888b-4f8a-aceb-07b4b58f95b4",
   "metadata": {},
   "outputs": [],
   "source": [
    "lm = WordNetLemmatizer()\n",
    "def text_transformation(df_col):\n",
    "    text_list = []\n",
    "    for text in df_col:\n",
    "        text = re.sub('[^a-zA-Z]',' ',str(text))\n",
    "        text = text.lower()\n",
    "        text = nltk.word_tokenize(text)\n",
    "        text = [lm.lemmatize(word) for word in text if word not in set(stopwords.words('english'))]\n",
    "        text_list.append(' '.join(str(x) for x in text))\n",
    "    return text_list"
   ]
  },
  {
   "cell_type": "code",
   "execution_count": null,
   "id": "7544bb00-afab-4844-a9ef-7a26202267ae",
   "metadata": {},
   "outputs": [],
   "source": [
    "df_reviews['Text_new'] = text_transformation(df_reviews['Text'])"
   ]
  },
  {
   "cell_type": "code",
   "execution_count": null,
   "id": "1e38d0bd-a4d6-4460-8ab2-6db01629a723",
   "metadata": {},
   "outputs": [],
   "source": [
    "#review the changes\n",
    "print(df_reviews['Text'][100])\n",
    "print(df_reviews['Text_new'][100])"
   ]
  },
  {
   "cell_type": "code",
   "execution_count": null,
   "id": "375f79ca-0a0f-491a-917c-5d61a20d53ff",
   "metadata": {},
   "outputs": [],
   "source": [
    "token_lists = [word_tokenize(each) for each in df_reviews['Text_new']]\n",
    "tokens = [item for sublist in token_lists for item in sublist]\n",
    "print(\"Number of unique tokens now: \",len(set(tokens)))"
   ]
  },
  {
   "cell_type": "markdown",
   "id": "29d193dd-ebfa-4861-8da8-400850bf487e",
   "metadata": {},
   "source": [
    "<font size=\"5\">Bag-of-words</font>"
   ]
  },
  {
   "cell_type": "code",
   "execution_count": null,
   "id": "97744163-497b-46c1-8d3d-0c8b240d54df",
   "metadata": {},
   "outputs": [],
   "source": [
    "# The following code creates a word-document matrix.\n",
    "from sklearn.feature_extraction.text import CountVectorizer\n",
    "\n",
    "vec = CountVectorizer()\n",
    "X = vec.fit_transform(df_reviews['Text_new'])\n",
    "df = pd.DataFrame(X.toarray(), columns = vec.get_feature_names())\n",
    "df.head()"
   ]
  },
  {
   "cell_type": "code",
   "execution_count": null,
   "id": "7b4b0c99-3e48-48a6-ac2c-c84376a0b285",
   "metadata": {},
   "outputs": [],
   "source": [
    "from wordcloud import WordCloud\n",
    "plt.subplots(figsize=(12,12))\n",
    "wordcloud=WordCloud(background_color=\"white\",width=1000,height=800).generate(\" \".join(df))\n",
    "\n",
    "plt.imshow(wordcloud)\n",
    "plt.axis(\"off\")\n",
    "plt.show()"
   ]
  },
  {
   "cell_type": "markdown",
   "id": "c8877dbc-9edf-4bee-a3ce-ca60d64176ae",
   "metadata": {},
   "source": [
    "<font size=\"5\">Creating CountVector</font>"
   ]
  },
  {
   "cell_type": "code",
   "execution_count": null,
   "id": "adcc1579-764d-4037-a113-9e0d3b28e357",
   "metadata": {},
   "outputs": [],
   "source": [
    "bow_counts = CountVectorizer(tokenizer= word_tokenize, \n",
    "                            \n",
    "                             ngram_range=(1,1)) \n",
    "\n",
    "bow_data = bow_counts.fit_transform(df_reviews['Text_new'])"
   ]
  },
  {
   "cell_type": "code",
   "execution_count": null,
   "id": "35eaae5d-4eee-4dc8-afc5-7b2e2d776a8f",
   "metadata": {},
   "outputs": [],
   "source": [
    "bow_data\n"
   ]
  },
  {
   "cell_type": "code",
   "execution_count": null,
   "id": "c25515d8-c137-4f4e-b305-549e41eee36b",
   "metadata": {},
   "outputs": [],
   "source": [
    "X_train_bow, X_test_bow, y_train_bow, y_test_bow = train_test_split(bow_data,\n",
    "                                                                    df_reviews['Sentiment_rating'],\n",
    "                                                                    test_size = 0.2,\n",
    "                                                                    random_state = 50)"
   ]
  },
  {
   "cell_type": "code",
   "execution_count": null,
   "id": "00262b9b-53f1-40a9-ab1c-02ff3002791c",
   "metadata": {},
   "outputs": [],
   "source": [
    "y_test_bow.value_counts()/y_test_bow.shape[0]"
   ]
  },
  {
   "cell_type": "code",
   "execution_count": null,
   "id": "c22679d9-b46b-4847-8b53-feb35016d00b",
   "metadata": {},
   "outputs": [],
   "source": [
    "print(X_train_bow.shape)\n",
    "print(X_test_bow.shape)"
   ]
  },
  {
   "cell_type": "markdown",
   "id": "2873b75f-db45-4b89-bc4f-7af2bcbfec45",
   "metadata": {},
   "source": [
    "<font size=\"5\">Applying logistic regression</font>"
   ]
  },
  {
   "cell_type": "code",
   "execution_count": null,
   "id": "6c99f9e9-04cf-4546-a0a6-86be3a004385",
   "metadata": {},
   "outputs": [],
   "source": [
    "from sklearn.metrics import confusion_matrix, classification_report\n",
    "clf = LogisticRegression(max_iter = 200)\n",
    "clf.fit(X_train_bow, y_train_bow)\n",
    "y_pred = clf.predict(X_test_bow)\n",
    "from sklearn.metrics import accuracy_score\n",
    "print(\"F1 score: \", f1_score(y_test_bow,y_pred, average='micro'))"
   ]
  },
  {
   "cell_type": "code",
   "execution_count": null,
   "id": "e4298d4f-c6d7-4cf9-84b6-289d2cedf1e6",
   "metadata": {},
   "outputs": [],
   "source": [
    "confusion_matrix(y_test_bow, y_pred)"
   ]
  },
  {
   "cell_type": "code",
   "execution_count": null,
   "id": "98efc36c-9ace-42ca-8f0e-5102fac6b064",
   "metadata": {},
   "outputs": [],
   "source": [
    "print(classification_report(y_test_bow, y_pred))"
   ]
  },
  {
   "cell_type": "markdown",
   "id": "caaf8371-d09a-4ca7-b720-cda456a8e714",
   "metadata": {},
   "source": [
    "<font size=\"5\">Applying Random Forest</font>"
   ]
  },
  {
   "cell_type": "code",
   "execution_count": null,
   "id": "4901c181-7897-4b47-858c-e9d03d1bb5d5",
   "metadata": {},
   "outputs": [],
   "source": [
    "forest = ensemble.RandomForestClassifier(n_estimators = 100)\n",
    "forest_fit = forest.fit(X_train_bow, y_train_bow)\n",
    "y_pred = forest.predict(X_train_bow)\n",
    "accuracy_score(y_train_bow, y_pred)"
   ]
  },
  {
   "cell_type": "markdown",
   "id": "c4cbe4c7-c6e0-4b0a-8951-918eeaf5e4ee",
   "metadata": {},
   "source": [
    "<font size=\"5\">Features Interpretation</font>"
   ]
  },
  {
   "cell_type": "code",
   "execution_count": null,
   "id": "3163d1c5-3758-4f27-8f83-e786e6b19eec",
   "metadata": {},
   "outputs": [],
   "source": [
    "lr_weights = pd.DataFrame(list(zip(bow_counts.get_feature_names(), \n",
    "                                   clf.coef_[0])), \n",
    "                          columns= ['words','weights'])\n",
    "\n",
    "# top-15 more important features for positive reviews\n",
    "lr_weights.sort_values(['weights'], ascending = False)[:15] "
   ]
  },
  {
   "cell_type": "code",
   "execution_count": null,
   "id": "52d3ea73-5088-42a0-8061-de80f02e534c",
   "metadata": {},
   "outputs": [],
   "source": [
    "# top-15 more important features for negative reviews\n",
    "lr_weights.sort_values(['weights'], ascending = False)[-15:] \n"
   ]
  },
  {
   "cell_type": "markdown",
   "id": "83b59746-9889-458e-8ffb-a7a74d5f7555",
   "metadata": {},
   "source": [
    "<font size=\"5\">TF-IDF model</font>"
   ]
  },
  {
   "cell_type": "code",
   "execution_count": null,
   "id": "9625a4c4-3599-4e90-a969-68e81c6c430a",
   "metadata": {},
   "outputs": [],
   "source": [
    "from sklearn.feature_extraction.text import TfidfVectorizer\n",
    "\n",
    "#Creating CountVectorizer\n",
    "tfidf_counts = TfidfVectorizer(tokenizer= word_tokenize, \n",
    "                               ngram_range=(1,1)) \n",
    "\n",
    "tfidf_data = tfidf_counts.fit_transform(df_reviews['Text_new'])"
   ]
  },
  {
   "cell_type": "code",
   "execution_count": null,
   "id": "4a0699a7-d730-4c8f-ba44-f9210a15a597",
   "metadata": {},
   "outputs": [],
   "source": [
    "tfidf_data"
   ]
  },
  {
   "cell_type": "code",
   "execution_count": null,
   "id": "caa1903b-23c6-4571-a4b0-323d244948e4",
   "metadata": {},
   "outputs": [],
   "source": [
    "X_train_tfidf, X_test_tfidf, y_train_tfidf, y_test_tfidf = train_test_split(tfidf_data,\n",
    "                                                                            df_reviews['Sentiment_rating'],\n",
    "                                                                            test_size = 0.2,\n",
    "                                                                            random_state = 50)"
   ]
  },
  {
   "cell_type": "code",
   "execution_count": null,
   "id": "9805ad93-365d-423e-9569-755fd9e2398c",
   "metadata": {},
   "outputs": [],
   "source": [
    "print(X_train_tfidf.shape)\n",
    "print(X_test_tfidf.shape)"
   ]
  },
  {
   "cell_type": "markdown",
   "id": "096dbafc-ee5c-4db5-81b5-80bfaacf8ab0",
   "metadata": {},
   "source": [
    "<font size=\"5\">Applying logistic regression to TF-IDF features</font>"
   ]
  },
  {
   "cell_type": "code",
   "execution_count": null,
   "id": "167c35b1-538a-4062-b995-02e075275fca",
   "metadata": {},
   "outputs": [],
   "source": [
    "clf_tf_idf = LogisticRegression()\n",
    "clf_tf_idf.fit(X_train_tfidf,y_train_tfidf)\n",
    "y_pred = clf_tf_idf.predict(X_test_tfidf)\n",
    "print(\"F1 score: \", f1_score(y_test_tfidf,y_pred, average='micro'))"
   ]
  },
  {
   "cell_type": "code",
   "execution_count": null,
   "id": "636dd157-8ee3-4702-b9a5-d5b2bc311e24",
   "metadata": {},
   "outputs": [],
   "source": [
    "from sklearn.metrics import confusion_matrix, classification_report"
   ]
  },
  {
   "cell_type": "code",
   "execution_count": null,
   "id": "21ae8652-07c5-4d42-9eb2-8974626c28f6",
   "metadata": {},
   "outputs": [],
   "source": [
    "confusion_matrix(y_test_tfidf, y_pred)"
   ]
  },
  {
   "cell_type": "code",
   "execution_count": null,
   "id": "e18c5e0f-be66-42d1-89ce-c9d7c9c89672",
   "metadata": {},
   "outputs": [],
   "source": [
    "print(classification_report(y_test_tfidf, y_pred))"
   ]
  },
  {
   "cell_type": "code",
   "execution_count": null,
   "id": "3aee9ac9-b1bf-4198-a1cf-4708e8257f4e",
   "metadata": {},
   "outputs": [],
   "source": []
  },
  {
   "cell_type": "code",
   "execution_count": null,
   "id": "4ff32660-8811-46d9-9b03-161356839d3b",
   "metadata": {},
   "outputs": [],
   "source": []
  },
  {
   "cell_type": "code",
   "execution_count": null,
   "id": "a375c6f4-bb12-4d38-9305-ca992ce6db74",
   "metadata": {},
   "outputs": [],
   "source": []
  }
 ],
 "metadata": {
  "kernelspec": {
   "display_name": "Python 3",
   "language": "python",
   "name": "python3"
  },
  "language_info": {
   "codemirror_mode": {
    "name": "ipython",
    "version": 3
   },
   "file_extension": ".py",
   "mimetype": "text/x-python",
   "name": "python",
   "nbconvert_exporter": "python",
   "pygments_lexer": "ipython3",
   "version": "3.8.8"
  }
 },
 "nbformat": 4,
 "nbformat_minor": 5
}
